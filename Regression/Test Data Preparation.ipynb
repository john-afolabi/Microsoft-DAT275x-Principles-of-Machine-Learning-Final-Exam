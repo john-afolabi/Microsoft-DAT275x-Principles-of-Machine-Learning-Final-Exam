{
 "cells": [
  {
   "cell_type": "code",
   "execution_count": 46,
   "metadata": {},
   "outputs": [],
   "source": [
    "import pandas as pd\n",
    "from datetime import datetime,time,timedelta,date"
   ]
  },
  {
   "cell_type": "code",
   "execution_count": 47,
   "metadata": {},
   "outputs": [],
   "source": [
    "df = pd.read_csv('AW_test.csv')"
   ]
  },
  {
   "cell_type": "code",
   "execution_count": 48,
   "metadata": {},
   "outputs": [],
   "source": [
    "df.drop(['Title','FirstName','LastName','MiddleName','Suffix','AddressLine1',\n",
    "           'AddressLine2','StateProvinceName','PhoneNumber','City', 'PostalCode'], axis=1, inplace=True)"
   ]
  },
  {
   "cell_type": "code",
   "execution_count": 49,
   "metadata": {},
   "outputs": [],
   "source": [
    "df['BirthDate'] =  pd.to_datetime(df['BirthDate'])\n",
    "df['Coll_date']=date(year = 1998, month = 1, day = 1)\n",
    "df['Coll_date']=pd.to_datetime(df['Coll_date'])\n",
    "df['Age_days'] = df['Coll_date']- df['BirthDate']\n",
    "df['Age'] =  df['Age_days'].astype('timedelta64[Y]')\n",
    "df.drop(['Coll_date','Age_days', 'BirthDate'], axis=1, inplace=True)\n",
    "df['Age'] = df['Age'].astype(int)"
   ]
  },
  {
   "cell_type": "code",
   "execution_count": 50,
   "metadata": {},
   "outputs": [],
   "source": [
    "df.drop(['HomeOwnerFlag'], \n",
    "          axis=1, inplace=True)\n",
    "df['ChildrenOut'] = df['TotalChildren'] - df['NumberChildrenAtHome']"
   ]
  },
  {
   "cell_type": "code",
   "execution_count": 51,
   "metadata": {},
   "outputs": [
    {
     "name": "stdout",
     "output_type": "stream",
     "text": [
      "<class 'pandas.core.frame.DataFrame'>\n",
      "RangeIndex: 500 entries, 0 to 499\n",
      "Data columns (total 12 columns):\n",
      "CustomerID              500 non-null int64\n",
      "CountryRegionName       500 non-null object\n",
      "Education               500 non-null object\n",
      "Occupation              500 non-null object\n",
      "Gender                  500 non-null object\n",
      "MaritalStatus           500 non-null object\n",
      "NumberCarsOwned         500 non-null int64\n",
      "NumberChildrenAtHome    500 non-null int64\n",
      "TotalChildren           500 non-null int64\n",
      "YearlyIncome            500 non-null int64\n",
      "Age                     500 non-null int32\n",
      "ChildrenOut             500 non-null int64\n",
      "dtypes: int32(1), int64(6), object(5)\n",
      "memory usage: 45.0+ KB\n"
     ]
    }
   ],
   "source": [
    "df.info()"
   ]
  },
  {
   "cell_type": "code",
   "execution_count": 52,
   "metadata": {},
   "outputs": [],
   "source": [
    "df.to_csv('Test_Data_Prepped.csv', index = False, header = True)"
   ]
  },
  {
   "cell_type": "code",
   "execution_count": null,
   "metadata": {},
   "outputs": [],
   "source": []
  }
 ],
 "metadata": {
  "kernelspec": {
   "display_name": "Python 3",
   "language": "python",
   "name": "python3"
  },
  "language_info": {
   "codemirror_mode": {
    "name": "ipython",
    "version": 3
   },
   "file_extension": ".py",
   "mimetype": "text/x-python",
   "name": "python",
   "nbconvert_exporter": "python",
   "pygments_lexer": "ipython3",
   "version": "3.7.0"
  }
 },
 "nbformat": 4,
 "nbformat_minor": 2
}
