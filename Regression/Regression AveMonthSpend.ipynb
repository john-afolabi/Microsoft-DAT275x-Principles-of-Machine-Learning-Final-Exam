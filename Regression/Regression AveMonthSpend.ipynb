{
 "cells": [
  {
   "cell_type": "code",
   "execution_count": 196,
   "metadata": {},
   "outputs": [],
   "source": [
    "import pandas as pd\n",
    "from datetime import datetime,time,timedelta,date"
   ]
  },
  {
   "cell_type": "code",
   "execution_count": 197,
   "metadata": {},
   "outputs": [],
   "source": [
    "AdvWorksCusts = pd.read_csv('AdvWorksCusts.csv')\n",
    "AW_BikeBuyer = pd.read_csv('AW_BikeBuyer.csv')\n",
    "AW_AveMonthSpend = pd.read_csv('AW_AveMonthSpend.csv')"
   ]
  },
  {
   "cell_type": "code",
   "execution_count": 198,
   "metadata": {},
   "outputs": [],
   "source": [
    "AdvWorksCusts.drop_duplicates(subset=['CustomerID'], keep='first', inplace=True)\n",
    "AW_BikeBuyer.drop_duplicates(subset=['CustomerID'], keep='first', inplace=True)\n",
    "AW_AveMonthSpend.drop_duplicates(subset=['CustomerID'], keep='first', inplace=True)"
   ]
  },
  {
   "cell_type": "code",
   "execution_count": 199,
   "metadata": {},
   "outputs": [],
   "source": [
    "df = pd.merge(AdvWorksCusts, AW_AveMonthSpend, on='CustomerID')\n",
    "df = pd.merge(df, AW_BikeBuyer, on='CustomerID')"
   ]
  },
  {
   "cell_type": "code",
   "execution_count": 200,
   "metadata": {},
   "outputs": [],
   "source": [
    "df.drop(['Title','FirstName','LastName','MiddleName','Suffix','AddressLine1',\n",
    "           'AddressLine2','StateProvinceName','PhoneNumber','City', 'PostalCode'], axis=1, inplace=True)"
   ]
  },
  {
   "cell_type": "code",
   "execution_count": 201,
   "metadata": {},
   "outputs": [],
   "source": [
    "df['BirthDate'] =  pd.to_datetime(df['BirthDate'])\n",
    "df['Coll_date']=date(year = 1998, month = 1, day = 1)\n",
    "df['Coll_date']=pd.to_datetime(df['Coll_date'])\n",
    "df['Age_days'] = df['Coll_date']- df['BirthDate']\n",
    "df['Age'] =  df['Age_days'].astype('timedelta64[Y]')\n",
    "df.drop(['Coll_date','Age_days', 'BirthDate'], axis=1, inplace=True)\n",
    "df['Age'] = df['Age'].astype(int)"
   ]
  },
  {
   "cell_type": "code",
   "execution_count": 202,
   "metadata": {},
   "outputs": [],
   "source": [
    "df.drop(['HomeOwnerFlag', 'BikeBuyer'], \n",
    "          axis=1, inplace=True)\n",
    "df['ChildrenOut'] = df['TotalChildren'] - df['NumberChildrenAtHome']"
   ]
  },
  {
   "cell_type": "code",
   "execution_count": 203,
   "metadata": {},
   "outputs": [
    {
     "name": "stdout",
     "output_type": "stream",
     "text": [
      "<class 'pandas.core.frame.DataFrame'>\n",
      "Int64Index: 16404 entries, 0 to 16403\n",
      "Data columns (total 13 columns):\n",
      "CustomerID              16404 non-null int64\n",
      "CountryRegionName       16404 non-null object\n",
      "Education               16404 non-null object\n",
      "Occupation              16404 non-null object\n",
      "Gender                  16404 non-null object\n",
      "MaritalStatus           16404 non-null object\n",
      "NumberCarsOwned         16404 non-null int64\n",
      "NumberChildrenAtHome    16404 non-null int64\n",
      "TotalChildren           16404 non-null int64\n",
      "YearlyIncome            16404 non-null int64\n",
      "AveMonthSpend           16404 non-null int64\n",
      "Age                     16404 non-null int32\n",
      "ChildrenOut             16404 non-null int64\n",
      "dtypes: int32(1), int64(7), object(5)\n",
      "memory usage: 1.7+ MB\n"
     ]
    }
   ],
   "source": [
    "df.info()"
   ]
  },
  {
   "cell_type": "code",
   "execution_count": 204,
   "metadata": {},
   "outputs": [],
   "source": [
    "df.to_csv('Reg_AveMonthSpend.csv', index = False, header = True)"
   ]
  },
  {
   "cell_type": "code",
   "execution_count": null,
   "metadata": {},
   "outputs": [],
   "source": []
  },
  {
   "cell_type": "code",
   "execution_count": null,
   "metadata": {},
   "outputs": [],
   "source": []
  }
 ],
 "metadata": {
  "kernelspec": {
   "display_name": "Python 3",
   "language": "python",
   "name": "python3"
  },
  "language_info": {
   "codemirror_mode": {
    "name": "ipython",
    "version": 3
   },
   "file_extension": ".py",
   "mimetype": "text/x-python",
   "name": "python",
   "nbconvert_exporter": "python",
   "pygments_lexer": "ipython3",
   "version": "3.7.0"
  }
 },
 "nbformat": 4,
 "nbformat_minor": 2
}
