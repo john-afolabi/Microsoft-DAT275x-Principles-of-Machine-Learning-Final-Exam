{
 "cells": [
  {
   "cell_type": "code",
   "execution_count": 96,
   "metadata": {},
   "outputs": [],
   "source": [
    "import pandas as pd\n",
    "import numpy as np\n",
    "import matplotlib.pyplot as plt\n",
    "import seaborn as sns\n",
    "from datetime import datetime,time,timedelta,date\n",
    "import math\n",
    "from pandas.plotting import scatter_matrix\n",
    "%matplotlib inline"
   ]
  },
  {
   "cell_type": "code",
   "execution_count": 97,
   "metadata": {},
   "outputs": [],
   "source": [
    "AdvWorksCusts = pd.read_csv('AdvWorksCusts.csv')\n",
    "AW_BikeBuyer = pd.read_csv('AW_BikeBuyer.csv')\n",
    "AW_AveMonthSpend = pd.read_csv('AW_AveMonthSpend.csv')"
   ]
  },
  {
   "cell_type": "code",
   "execution_count": 98,
   "metadata": {},
   "outputs": [],
   "source": [
    "AdvWorksCusts.drop_duplicates(subset=['CustomerID'], keep='first', inplace=True)\n",
    "AW_BikeBuyer.drop_duplicates(subset=['CustomerID'], keep='first', inplace=True)\n",
    "AW_AveMonthSpend.drop_duplicates(subset=['CustomerID'], keep='first', inplace=True)"
   ]
  },
  {
   "cell_type": "code",
   "execution_count": 99,
   "metadata": {},
   "outputs": [],
   "source": [
    "df = pd.merge(AdvWorksCusts, AW_AveMonthSpend, on='CustomerID')\n",
    "df = pd.merge(df, AW_BikeBuyer, on='CustomerID')"
   ]
  },
  {
   "cell_type": "code",
   "execution_count": 100,
   "metadata": {},
   "outputs": [
    {
     "name": "stdout",
     "output_type": "stream",
     "text": [
      "(16404, 25)\n"
     ]
    }
   ],
   "source": [
    "print(df.shape)"
   ]
  },
  {
   "cell_type": "code",
   "execution_count": 101,
   "metadata": {},
   "outputs": [],
   "source": [
    "df.drop(['Title','FirstName','LastName','MiddleName','Suffix','AddressLine1',\n",
    "           'AddressLine2','StateProvinceName','PhoneNumber','City', 'PostalCode'], axis=1, inplace=True)"
   ]
  },
  {
   "cell_type": "code",
   "execution_count": 102,
   "metadata": {},
   "outputs": [
    {
     "data": {
      "text/plain": [
       "CustomerID               int64\n",
       "CountryRegionName       object\n",
       "BirthDate               object\n",
       "Education               object\n",
       "Occupation              object\n",
       "Gender                  object\n",
       "MaritalStatus           object\n",
       "HomeOwnerFlag            int64\n",
       "NumberCarsOwned          int64\n",
       "NumberChildrenAtHome     int64\n",
       "TotalChildren            int64\n",
       "YearlyIncome             int64\n",
       "AveMonthSpend            int64\n",
       "BikeBuyer                int64\n",
       "dtype: object"
      ]
     },
     "execution_count": 102,
     "metadata": {},
     "output_type": "execute_result"
    }
   ],
   "source": [
    "df.dtypes"
   ]
  },
  {
   "cell_type": "code",
   "execution_count": 103,
   "metadata": {},
   "outputs": [
    {
     "name": "stdout",
     "output_type": "stream",
     "text": [
      "\n",
      "For column Education\n",
      "Bachelors              4758\n",
      "Partial College        4451\n",
      "High School            2944\n",
      "Graduate Degree        2851\n",
      "Partial High School    1400\n",
      "Name: Education, dtype: int64\n",
      "\n",
      "For column Occupation\n",
      "Professional      4922\n",
      "Skilled Manual    4038\n",
      "Management        2718\n",
      "Clerical          2597\n",
      "Manual            2129\n",
      "Name: Occupation, dtype: int64\n",
      "\n",
      "For column Gender\n",
      "M    8290\n",
      "F    8114\n",
      "Name: Gender, dtype: int64\n",
      "\n",
      "For column MaritalStatus\n",
      "M    8852\n",
      "S    7552\n",
      "Name: MaritalStatus, dtype: int64\n",
      "\n",
      "For column CountryRegionName\n",
      "United States     6935\n",
      "Australia         3194\n",
      "United Kingdom    1709\n",
      "France            1591\n",
      "Germany           1577\n",
      "Canada            1398\n",
      "Name: CountryRegionName, dtype: int64\n",
      "\n",
      "For column BikeBuyer\n",
      "0    10953\n",
      "1     5451\n",
      "Name: BikeBuyer, dtype: int64\n",
      "\n",
      "For column HomeOwnerFlag\n",
      "1    11058\n",
      "0     5346\n",
      "Name: HomeOwnerFlag, dtype: int64\n"
     ]
    }
   ],
   "source": [
    "def count_unique(df, cols):\n",
    "    for col in cols:\n",
    "        print('\\n' + 'For column ' + col)\n",
    "        print(df[col].value_counts())\n",
    "cat_cols = ['Education', 'Occupation', 'Gender','MaritalStatus','CountryRegionName','BikeBuyer','HomeOwnerFlag']\n",
    "count_unique(df, cat_cols)"
   ]
  },
  {
   "cell_type": "code",
   "execution_count": 104,
   "metadata": {},
   "outputs": [],
   "source": [
    "df['BirthDate'] =  pd.to_datetime(df['BirthDate'])\n",
    "df['Coll_date']=date(year = 1998, month = 1, day = 1)\n",
    "df['Coll_date']=pd.to_datetime(df['Coll_date'])\n",
    "df['Age_days'] = df['Coll_date']- df['BirthDate']\n",
    "df['Age'] =  df['Age_days'].astype('timedelta64[Y]')"
   ]
  },
  {
   "cell_type": "code",
   "execution_count": 105,
   "metadata": {},
   "outputs": [],
   "source": [
    "df.drop(['Coll_date','Age_days', 'BirthDate'], axis=1, inplace=True)\n",
    "df['Age'] = df['Age'].astype(int)"
   ]
  },
  {
   "cell_type": "code",
   "execution_count": 106,
   "metadata": {},
   "outputs": [
    {
     "data": {
      "text/html": [
       "<div>\n",
       "<style scoped>\n",
       "    .dataframe tbody tr th:only-of-type {\n",
       "        vertical-align: middle;\n",
       "    }\n",
       "\n",
       "    .dataframe tbody tr th {\n",
       "        vertical-align: top;\n",
       "    }\n",
       "\n",
       "    .dataframe thead th {\n",
       "        text-align: right;\n",
       "    }\n",
       "</style>\n",
       "<table border=\"1\" class=\"dataframe\">\n",
       "  <thead>\n",
       "    <tr style=\"text-align: right;\">\n",
       "      <th></th>\n",
       "      <th>CustomerID</th>\n",
       "      <th>CountryRegionName</th>\n",
       "      <th>Education</th>\n",
       "      <th>Occupation</th>\n",
       "      <th>Gender</th>\n",
       "      <th>MaritalStatus</th>\n",
       "      <th>HomeOwnerFlag</th>\n",
       "      <th>NumberCarsOwned</th>\n",
       "      <th>NumberChildrenAtHome</th>\n",
       "      <th>TotalChildren</th>\n",
       "      <th>YearlyIncome</th>\n",
       "      <th>AveMonthSpend</th>\n",
       "      <th>BikeBuyer</th>\n",
       "      <th>Age</th>\n",
       "    </tr>\n",
       "  </thead>\n",
       "  <tbody>\n",
       "    <tr>\n",
       "      <th>0</th>\n",
       "      <td>11000</td>\n",
       "      <td>Australia</td>\n",
       "      <td>Bachelors</td>\n",
       "      <td>Professional</td>\n",
       "      <td>M</td>\n",
       "      <td>M</td>\n",
       "      <td>1</td>\n",
       "      <td>0</td>\n",
       "      <td>0</td>\n",
       "      <td>2</td>\n",
       "      <td>137947</td>\n",
       "      <td>89</td>\n",
       "      <td>0</td>\n",
       "      <td>31</td>\n",
       "    </tr>\n",
       "    <tr>\n",
       "      <th>1</th>\n",
       "      <td>11001</td>\n",
       "      <td>Australia</td>\n",
       "      <td>Bachelors</td>\n",
       "      <td>Professional</td>\n",
       "      <td>M</td>\n",
       "      <td>S</td>\n",
       "      <td>0</td>\n",
       "      <td>1</td>\n",
       "      <td>3</td>\n",
       "      <td>3</td>\n",
       "      <td>101141</td>\n",
       "      <td>117</td>\n",
       "      <td>1</td>\n",
       "      <td>32</td>\n",
       "    </tr>\n",
       "    <tr>\n",
       "      <th>2</th>\n",
       "      <td>11002</td>\n",
       "      <td>Australia</td>\n",
       "      <td>Bachelors</td>\n",
       "      <td>Professional</td>\n",
       "      <td>M</td>\n",
       "      <td>M</td>\n",
       "      <td>1</td>\n",
       "      <td>1</td>\n",
       "      <td>3</td>\n",
       "      <td>3</td>\n",
       "      <td>91945</td>\n",
       "      <td>123</td>\n",
       "      <td>0</td>\n",
       "      <td>32</td>\n",
       "    </tr>\n",
       "    <tr>\n",
       "      <th>3</th>\n",
       "      <td>11003</td>\n",
       "      <td>Australia</td>\n",
       "      <td>Bachelors</td>\n",
       "      <td>Professional</td>\n",
       "      <td>F</td>\n",
       "      <td>S</td>\n",
       "      <td>0</td>\n",
       "      <td>1</td>\n",
       "      <td>0</td>\n",
       "      <td>0</td>\n",
       "      <td>86688</td>\n",
       "      <td>50</td>\n",
       "      <td>0</td>\n",
       "      <td>29</td>\n",
       "    </tr>\n",
       "    <tr>\n",
       "      <th>4</th>\n",
       "      <td>11004</td>\n",
       "      <td>Australia</td>\n",
       "      <td>Bachelors</td>\n",
       "      <td>Professional</td>\n",
       "      <td>F</td>\n",
       "      <td>S</td>\n",
       "      <td>1</td>\n",
       "      <td>4</td>\n",
       "      <td>5</td>\n",
       "      <td>5</td>\n",
       "      <td>92771</td>\n",
       "      <td>95</td>\n",
       "      <td>1</td>\n",
       "      <td>29</td>\n",
       "    </tr>\n",
       "  </tbody>\n",
       "</table>\n",
       "</div>"
      ],
      "text/plain": [
       "   CustomerID CountryRegionName   Education    Occupation Gender  \\\n",
       "0       11000         Australia  Bachelors   Professional      M   \n",
       "1       11001         Australia  Bachelors   Professional      M   \n",
       "2       11002         Australia  Bachelors   Professional      M   \n",
       "3       11003         Australia  Bachelors   Professional      F   \n",
       "4       11004         Australia  Bachelors   Professional      F   \n",
       "\n",
       "  MaritalStatus  HomeOwnerFlag  NumberCarsOwned  NumberChildrenAtHome  \\\n",
       "0             M              1                0                     0   \n",
       "1             S              0                1                     3   \n",
       "2             M              1                1                     3   \n",
       "3             S              0                1                     0   \n",
       "4             S              1                4                     5   \n",
       "\n",
       "   TotalChildren  YearlyIncome  AveMonthSpend  BikeBuyer  Age  \n",
       "0              2        137947             89          0   31  \n",
       "1              3        101141            117          1   32  \n",
       "2              3         91945            123          0   32  \n",
       "3              0         86688             50          0   29  \n",
       "4              5         92771             95          1   29  "
      ]
     },
     "execution_count": 106,
     "metadata": {},
     "output_type": "execute_result"
    }
   ],
   "source": [
    "df.head()"
   ]
  },
  {
   "cell_type": "code",
   "execution_count": 107,
   "metadata": {},
   "outputs": [
    {
     "data": {
      "text/plain": [
       "<matplotlib.axes._subplots.AxesSubplot at 0x1a84c75ec88>"
      ]
     },
     "execution_count": 107,
     "metadata": {},
     "output_type": "execute_result"
    },
    {
     "data": {
      "image/png": "[encoded data removed]",
      "text/plain": [
       "<Figure size 432x288 with 1 Axes>"
      ]
     },
     "metadata": {
      "needs_background": "light"
     },
     "output_type": "display_data"
    }
   ],
   "source": [
    "df['AgeRange'] = ['Under 25' if ((x < 25)) \n",
    "                   else 'Between 25 and 45' if ((x>=25 and x<=45)) \n",
    "                   else 'Between 45 and 55' if ((x>45  and x<=55))\n",
    "                   else 'Over 55' if ((x>55))\n",
    "                   else x for x in df['Age']]\n",
    "df['AgeRange'].value_counts().plot(kind='bar')"
   ]
  },
  {
   "cell_type": "code",
   "execution_count": 108,
   "metadata": {},
   "outputs": [],
   "source": [
    "df['CountryRegionName']= df['CountryRegionName'].astype('category')\n",
    "df['Education']= df['Education'].astype('category')\n",
    "df['Occupation']= df['Occupation'].astype('category')\n",
    "df['Gender']= df['Gender'].astype('category')\n",
    "df['MaritalStatus']= df['MaritalStatus'].astype('category')\n",
    "df['AgeRange']= df['AgeRange'].astype('category')\n",
    "df['BikeBuyer']= df['BikeBuyer'].astype('category')\n",
    "df['HomeOwnerFlag']=df['HomeOwnerFlag'].astype('category')"
   ]
  },
  {
   "cell_type": "code",
   "execution_count": 109,
   "metadata": {},
   "outputs": [
    {
     "data": {
      "text/plain": [
       "CustomerID                 int64\n",
       "CountryRegionName       category\n",
       "Education               category\n",
       "Occupation              category\n",
       "Gender                  category\n",
       "MaritalStatus           category\n",
       "HomeOwnerFlag           category\n",
       "NumberCarsOwned            int64\n",
       "NumberChildrenAtHome       int64\n",
       "TotalChildren              int64\n",
       "YearlyIncome               int64\n",
       "AveMonthSpend              int64\n",
       "BikeBuyer               category\n",
       "Age                        int32\n",
       "AgeRange                category\n",
       "dtype: object"
      ]
     },
     "execution_count": 109,
     "metadata": {},
     "output_type": "execute_result"
    }
   ],
   "source": [
    "df.dtypes"
   ]
  },
  {
   "cell_type": "code",
   "execution_count": 110,
   "metadata": {},
   "outputs": [],
   "source": [
    "df['log_YearlyIncome'] = np.log(df['YearlyIncome'])"
   ]
  },
  {
   "cell_type": "code",
   "execution_count": 111,
   "metadata": {},
   "outputs": [],
   "source": [
    "df.drop(['NumberChildrenAtHome','Age','AveMonthSpend', 'HomeOwnerFlag', 'YearlyIncome'], \n",
    "          axis=1, inplace=True)"
   ]
  },
  {
   "cell_type": "code",
   "execution_count": 112,
   "metadata": {},
   "outputs": [
    {
     "name": "stdout",
     "output_type": "stream",
     "text": [
      "<class 'pandas.core.frame.DataFrame'>\n",
      "Int64Index: 16404 entries, 0 to 16403\n",
      "Data columns (total 11 columns):\n",
      "CustomerID           16404 non-null int64\n",
      "CountryRegionName    16404 non-null category\n",
      "Education            16404 non-null category\n",
      "Occupation           16404 non-null category\n",
      "Gender               16404 non-null category\n",
      "MaritalStatus        16404 non-null category\n",
      "NumberCarsOwned      16404 non-null int64\n",
      "TotalChildren        16404 non-null int64\n",
      "BikeBuyer            16404 non-null category\n",
      "AgeRange             16404 non-null category\n",
      "log_YearlyIncome     16404 non-null float64\n",
      "dtypes: category(7), float64(1), int64(3)\n",
      "memory usage: 754.0 KB\n"
     ]
    }
   ],
   "source": [
    "df.info()"
   ]
  },
  {
   "cell_type": "code",
   "execution_count": 113,
   "metadata": {},
   "outputs": [],
   "source": [
    "df.to_csv('Class_BikeBuyer.csv', index = False, header = True)"
   ]
  },
  {
   "cell_type": "code",
   "execution_count": null,
   "metadata": {},
   "outputs": [],
   "source": []
  }
 ],
 "metadata": {
  "kernelspec": {
   "display_name": "Python 3",
   "language": "python",
   "name": "python3"
  },
  "language_info": {
   "codemirror_mode": {
    "name": "ipython",
    "version": 3
   },
   "file_extension": ".py",
   "mimetype": "text/x-python",
   "name": "python",
   "nbconvert_exporter": "python",
   "pygments_lexer": "ipython3",
   "version": "3.7.0"
  }
 },
 "nbformat": 4,
 "nbformat_minor": 2
}
