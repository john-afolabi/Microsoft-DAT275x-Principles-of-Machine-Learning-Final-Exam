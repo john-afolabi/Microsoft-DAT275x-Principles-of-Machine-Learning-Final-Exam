{
 "cells": [
  {
   "cell_type": "code",
   "execution_count": 1,
   "metadata": {},
   "outputs": [],
   "source": [
    "import pandas as pd\n",
    "import numpy as np\n",
    "from sklearn import preprocessing\n",
    "import sklearn.model_selection as ms\n",
    "from sklearn import linear_model\n",
    "import sklearn.metrics as sklm\n",
    "import pickle\n",
    "model = pickle.load(open('classification_model.sav', 'rb'))"
   ]
  },
  {
   "cell_type": "code",
   "execution_count": 2,
   "metadata": {},
   "outputs": [
    {
     "name": "stdout",
     "output_type": "stream",
     "text": [
      "<class 'pandas.core.frame.DataFrame'>\n",
      "RangeIndex: 500 entries, 0 to 499\n",
      "Data columns (total 10 columns):\n",
      "CustomerID           500 non-null int64\n",
      "CountryRegionName    500 non-null object\n",
      "Education            500 non-null object\n",
      "Occupation           500 non-null object\n",
      "Gender               500 non-null object\n",
      "MaritalStatus        500 non-null object\n",
      "NumberCarsOwned      500 non-null int64\n",
      "TotalChildren        500 non-null int64\n",
      "AgeRange             500 non-null object\n",
      "log_YearlyIncome     500 non-null float64\n",
      "dtypes: float64(1), int64(3), object(6)\n",
      "memory usage: 39.1+ KB\n"
     ]
    }
   ],
   "source": [
    "df = pd.read_csv('AW_Test_prepped_classification.csv')\n",
    "df.info()"
   ]
  },
  {
   "cell_type": "code",
   "execution_count": 3,
   "metadata": {},
   "outputs": [],
   "source": [
    "def encode_string(cat_features):\n",
    "    ## First encode the strings to numeric categories\n",
    "    enc = preprocessing.LabelEncoder()\n",
    "    enc.fit(cat_features)\n",
    "    enc_cat_features = enc.transform(cat_features)\n",
    "    ## Now, apply one hot encoding\n",
    "    ohe = preprocessing.OneHotEncoder()\n",
    "    encoded = ohe.fit(enc_cat_features.reshape(-1,1))\n",
    "    return encoded.transform(enc_cat_features.reshape(-1,1)).toarray()"
   ]
  },
  {
   "cell_type": "code",
   "execution_count": 4,
   "metadata": {},
   "outputs": [
    {
     "name": "stdout",
     "output_type": "stream",
     "text": [
      "(500, 24)\n",
      "[[0. 0. 0. 0. 0. 1. 1. 0. 0. 0. 0. 0. 1. 0. 0. 0. 1. 0. 0. 1. 0. 1. 0. 0.]\n",
      " [0. 1. 0. 0. 0. 0. 1. 0. 0. 0. 0. 0. 0. 0. 0. 1. 0. 1. 1. 0. 1. 0. 0. 0.]]\n"
     ]
    }
   ],
   "source": [
    "categorical_columns = ['Education', 'Occupation', 'Gender', 'MaritalStatus', 'AgeRange']\n",
    "Features = encode_string(df['CountryRegionName'])\n",
    "for col in categorical_columns:\n",
    "    temp = encode_string(df[col])\n",
    "    Features = np.concatenate([Features, temp], axis = 1)\n",
    "\n",
    "print(Features.shape)\n",
    "print(Features[:2, :])"
   ]
  },
  {
   "cell_type": "code",
   "execution_count": 5,
   "metadata": {},
   "outputs": [
    {
     "name": "stdout",
     "output_type": "stream",
     "text": [
      "(500, 27)\n",
      "[[ 0.          0.          0.          0.          0.          1.\n",
      "   1.          0.          0.          0.          0.          0.\n",
      "   1.          0.          0.          0.          1.          0.\n",
      "   0.          1.          0.          1.          0.          0.\n",
      "   2.          5.         11.37286998]\n",
      " [ 0.          1.          0.          0.          0.          0.\n",
      "   1.          0.          0.          0.          0.          0.\n",
      "   0.          0.          0.          1.          0.          1.\n",
      "   1.          0.          1.          0.          0.          0.\n",
      "   2.          4.         11.51417468]]\n"
     ]
    }
   ],
   "source": [
    "Features = np.concatenate([Features, np.array(df[['NumberCarsOwned', \n",
    "                            'TotalChildren', 'log_YearlyIncome']])], axis = 1)\n",
    "print(Features.shape)\n",
    "print(Features[:2, :]) "
   ]
  },
  {
   "cell_type": "code",
   "execution_count": 6,
   "metadata": {},
   "outputs": [],
   "source": [
    "scaler = preprocessing.StandardScaler().fit(Features[:,25:])\n",
    "Features[:,25:] = scaler.transform(Features[:,25:])"
   ]
  },
  {
   "cell_type": "code",
   "execution_count": 18,
   "metadata": {},
   "outputs": [],
   "source": [
    "ClassPred = pd.DataFrame(model.predict(Features))\n",
    "ClassPred.rename(columns = {0: 'PredBikeBuyer'}, inplace=True)\n",
    "ClassPred['CustomerID'] = df['CustomerID']\n",
    "ClassPred = ClassPred[['CustomerID', 'PredBikeBuyer']]\n",
    "ClassPred.to_csv('ClassPred.csv', mode='w', index=False)"
   ]
  },
  {
   "cell_type": "code",
   "execution_count": null,
   "metadata": {},
   "outputs": [],
   "source": []
  }
 ],
 "metadata": {
  "kernelspec": {
   "display_name": "Python 3",
   "language": "python",
   "name": "python3"
  },
  "language_info": {
   "codemirror_mode": {
    "name": "ipython",
    "version": 3
   },
   "file_extension": ".py",
   "mimetype": "text/x-python",
   "name": "python",
   "nbconvert_exporter": "python",
   "pygments_lexer": "ipython3",
   "version": "3.7.0"
  }
 },
 "nbformat": 4,
 "nbformat_minor": 2
}
